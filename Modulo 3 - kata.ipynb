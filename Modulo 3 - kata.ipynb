{
 "cells": [
  {
   "cell_type": "markdown",
   "metadata": {},
   "source": [
    "# Usar lógica booleana"
   ]
  },
  {
   "cell_type": "markdown",
   "metadata": {},
   "source": [
    "## Escribir declaraciones if, else, y elif"
   ]
  },
  {
   "cell_type": "code",
   "execution_count": 19,
   "metadata": {},
   "outputs": [
    {
     "name": "stdout",
     "output_type": "stream",
     "text": [
      "¡Cuidado! Un asteroide se acerca a 49 km/s\n"
     ]
    }
   ],
   "source": [
    "velocidad = 49\n",
    "if velocidad > 25:\n",
    "    print(\"¡Cuidado! Un asteroide se acerca a la tierra a\", str(velocidad),\"km/s\")\n",
    "else:\n",
    "    print(\"Todo en orden\")"
   ]
  },
  {
   "cell_type": "code",
   "execution_count": 20,
   "metadata": {},
   "outputs": [
    {
     "name": "stdout",
     "output_type": "stream",
     "text": [
      "Todo en orden\n"
     ]
    }
   ],
   "source": [
    "velocidad = 19\n",
    "\n",
    "if velocidad >= 20:\n",
    "    print(\"¡Miren, un rayo de luz! Se puede ver un asteroide en el cielo\")\n",
    "else:\n",
    "    print(\"Todo en orden\")"
   ]
  },
  {
   "cell_type": "markdown",
   "metadata": {},
   "source": [
    "## Uso de operadores and y or"
   ]
  },
  {
   "cell_type": "code",
   "execution_count": 24,
   "metadata": {},
   "outputs": [
    {
     "name": "stdout",
     "output_type": "stream",
     "text": [
      "¡Atención! Un asteroide muy peligroso se acerca a la tierra\n"
     ]
    }
   ],
   "source": [
    "dimension=30\n",
    "velocidad=20\n",
    "\n",
    "if dimension >= 25 or velocidad > 25:\n",
    "    print(\"¡Atención! Un asteroide muy peligroso se acerca a la tierra\")\n",
    "elif velocidad >= 20:\n",
    "    print(\"¡Miren, un rayo de luz! Se puede ver un asteroide en el cielo\")\n",
    "else:\n",
    "    print(\"Todo en orden\")\n"
   ]
  }
 ],
 "metadata": {
  "language_info": {
   "name": "python"
  },
  "orig_nbformat": 4
 },
 "nbformat": 4,
 "nbformat_minor": 2
}
