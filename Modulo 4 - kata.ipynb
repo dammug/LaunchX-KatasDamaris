{
 "cells": [
  {
   "cell_type": "markdown",
   "metadata": {},
   "source": [
    "# Cadenas"
   ]
  },
  {
   "cell_type": "markdown",
   "metadata": {},
   "source": [
    "## Transformar cadenas"
   ]
  },
  {
   "cell_type": "code",
   "execution_count": 12,
   "metadata": {},
   "outputs": [
    {
     "data": {
      "text/plain": [
       "['Interesting facts about the Moon',\n",
       " \"The Moon is Earth's only satellite\",\n",
       " 'There are several interesting facts about the Moon and how it affects life here on Earth',\n",
       " '\\nOn average, the Moon moves 4cm away from the Earth every year',\n",
       " 'This yearly drift is not significant enough to cause immediate effects on Earth',\n",
       " 'The highest daylight temperature of the Moon is 127 C.']"
      ]
     },
     "execution_count": 12,
     "metadata": {},
     "output_type": "execute_result"
    }
   ],
   "source": [
    "text = \"\"\"Interesting facts about the Moon. The Moon is Earth's only satellite. There are several interesting facts about the Moon and how it affects life here on Earth. \n",
    "On average, the Moon moves 4cm away from the Earth every year. This yearly drift is not significant enough to cause immediate effects on Earth. The highest daylight temperature of the Moon is 127 C.\"\"\"\n",
    "\n",
    "partes = text.split('. ')\n",
    "partes"
   ]
  },
  {
   "cell_type": "code",
   "execution_count": 14,
   "metadata": {},
   "outputs": [
    {
     "name": "stdout",
     "output_type": "stream",
     "text": [
      "\n",
      "On average, the Moon moves 4cm away from the Earth every year\n",
      "The highest daylight temperature of the Moon is 127 C.\n"
     ]
    }
   ],
   "source": [
    "pistas = [\"average\",\"temperature\",\"distance\"]\n",
    "\n",
    "for parte in partes:\n",
    "    for pista in pistas:\n",
    "        if parte.find(pista) != -1:\n",
    "            print(parte)\n"
   ]
  },
  {
   "cell_type": "code",
   "execution_count": 22,
   "metadata": {},
   "outputs": [
    {
     "name": "stdout",
     "output_type": "stream",
     "text": [
      "\n",
      "On average, the Moon moves 4cm away from the Earth every year\n",
      "The highest daylight temperature of the Moon is 127Celsius.\n"
     ]
    }
   ],
   "source": [
    "for parte in partes:\n",
    "    for pista in pistas:\n",
    "        if parte.find(pista) != -1:\n",
    "            print(parte.replace(\" C\", \" Celsius\"))"
   ]
  },
  {
   "cell_type": "markdown",
   "metadata": {},
   "source": [
    "\n",
    "## Formateando cadenas"
   ]
  },
  {
   "cell_type": "code",
   "execution_count": 55,
   "metadata": {},
   "outputs": [],
   "source": [
    "nombre = \"Luna\"\n",
    "gravedad = 0.00162 # in kms\n",
    "planeta = \"Tierra\""
   ]
  },
  {
   "cell_type": "code",
   "execution_count": 56,
   "metadata": {},
   "outputs": [
    {
     "name": "stdout",
     "output_type": "stream",
     "text": [
      "Datos curiosos sobre Luna \n",
      " ---------------- \n",
      "Nombre de planeta: Tierra \n",
      "Gravedad: 1.62\n"
     ]
    }
   ],
   "source": [
    "titulo = \"Datos curiosos sobre\"\n",
    "\n",
    "gravedad = round(gravedad * 1000,2)\n",
    "\n",
    "formato = f\"\"\"{titulo} {nombre} \\n ---------------- \\nNombre de planeta: {planeta} \\nGravedad: {gravedad}\"\"\"\n",
    "\n",
    "print (formato)"
   ]
  },
  {
   "cell_type": "code",
   "execution_count": 57,
   "metadata": {},
   "outputs": [
    {
     "name": "stdout",
     "output_type": "stream",
     "text": [
      "Datos curiosos sobre Luna \n",
      " ---------------- \n",
      "Nombre de planeta: Tierra \n",
      "Gravedad: 1.62\n"
     ]
    }
   ],
   "source": [
    "planeta = 'Marte '\n",
    "gravedad  = 0.00143\n",
    "nombre = 'Ganímedes'\n",
    "\n",
    "print(formato)"
   ]
  },
  {
   "cell_type": "code",
   "execution_count": 59,
   "metadata": {},
   "outputs": [
    {
     "name": "stdout",
     "output_type": "stream",
     "text": [
      "Datos curiosos sobre Ganímedes\n",
      " ---------------- \n",
      "Nombre de planeta: Marte  \n",
      "Gravedad: 1.43\n"
     ]
    }
   ],
   "source": [
    "formato = \"\"\"{titulo} {nombre}\\n ---------------- \\nNombre de planeta: {planeta} \\nGravedad: {gravedad}\"\"\"\n",
    "\n",
    "print(formato.format(titulo=titulo, nombre=nombre, planeta=planeta, gravedad=round(gravedad * 1000,2)))"
   ]
  }
 ],
 "metadata": {
  "interpreter": {
   "hash": "ac59ebe37160ed0dfa835113d9b8498d9f09ceb179beaac4002f036b9467c963"
  },
  "kernelspec": {
   "display_name": "Python 3.9.6 64-bit",
   "language": "python",
   "name": "python3"
  },
  "language_info": {
   "codemirror_mode": {
    "name": "ipython",
    "version": 3
   },
   "file_extension": ".py",
   "mimetype": "text/x-python",
   "name": "python",
   "nbconvert_exporter": "python",
   "pygments_lexer": "ipython3",
   "version": "3.9.6"
  },
  "orig_nbformat": 4
 },
 "nbformat": 4,
 "nbformat_minor": 2
}
