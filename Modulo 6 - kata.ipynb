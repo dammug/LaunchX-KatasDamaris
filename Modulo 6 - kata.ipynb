{
 "cells": [
  {
   "cell_type": "markdown",
   "metadata": {},
   "source": [
    "# Introducción a las listas"
   ]
  },
  {
   "cell_type": "markdown",
   "metadata": {},
   "source": [
    "## Crear y usar listas"
   ]
  },
  {
   "cell_type": "code",
   "execution_count": 3,
   "metadata": {},
   "outputs": [
    {
     "name": "stdout",
     "output_type": "stream",
     "text": [
      "['mercurio', 'venus', 'tierra', 'marte', 'júpiter', 'saturno', 'urano', 'neptuno']\n",
      "8\n"
     ]
    }
   ],
   "source": [
    "planetas = ['mercurio', 'venus', 'tierra', 'marte', 'júpiter', 'saturno', 'urano', 'neptuno']\n",
    "\n",
    "print(planetas)\n",
    "print(len(planetas))"
   ]
  },
  {
   "cell_type": "code",
   "execution_count": 4,
   "metadata": {},
   "outputs": [
    {
     "name": "stdout",
     "output_type": "stream",
     "text": [
      "pluton\n",
      "9\n"
     ]
    }
   ],
   "source": [
    "planetas.append('pluton')\n",
    "\n",
    "print(planetas[-1])\n",
    "print(len(planetas))"
   ]
  },
  {
   "cell_type": "markdown",
   "metadata": {},
   "source": [
    "##  Trabajar con datos de una lista"
   ]
  },
  {
   "cell_type": "code",
   "execution_count": 10,
   "metadata": {},
   "outputs": [
    {
     "name": "stdout",
     "output_type": "stream",
     "text": [
      "tierra , 2\n"
     ]
    }
   ],
   "source": [
    "planetas = ['mercurio', 'venus', 'tierra', 'marte', 'júpiter', 'saturno', 'urano', 'neptuno']\n",
    "\n",
    "planeta = input(\"Ingrese el nombre d eun planeta\")\n",
    "\n",
    "indice = planetas.index(planeta)\n",
    "\n",
    "print(planeta, \",\", indice)"
   ]
  },
  {
   "cell_type": "code",
   "execution_count": 15,
   "metadata": {},
   "outputs": [
    {
     "name": "stdout",
     "output_type": "stream",
     "text": [
      "Planetas más cercanos al sol que tierra: \n",
      "mercurio\n",
      "venus\n"
     ]
    }
   ],
   "source": [
    "print(\"Planetas más cercanos al sol que {planeta}: \".format(planeta=planeta))\n",
    "for n in range(0, indice):\n",
    "    print(planetas[n])"
   ]
  },
  {
   "cell_type": "code",
   "execution_count": 16,
   "metadata": {},
   "outputs": [
    {
     "name": "stdout",
     "output_type": "stream",
     "text": [
      "Planetas más alejados del sol que tierra: \n",
      "marte\n",
      "júpiter\n",
      "saturno\n",
      "urano\n",
      "neptuno\n"
     ]
    }
   ],
   "source": [
    "print(\"Planetas más alejados del sol que {planeta}: \".format(planeta=planeta))\n",
    "for n in range(indice + 1, len(planetas)):\n",
    "    print(planetas[n])"
   ]
  }
 ],
 "metadata": {
  "interpreter": {
   "hash": "ac59ebe37160ed0dfa835113d9b8498d9f09ceb179beaac4002f036b9467c963"
  },
  "kernelspec": {
   "display_name": "Python 3.9.6 64-bit",
   "language": "python",
   "name": "python3"
  },
  "language_info": {
   "codemirror_mode": {
    "name": "ipython",
    "version": 3
   },
   "file_extension": ".py",
   "mimetype": "text/x-python",
   "name": "python",
   "nbconvert_exporter": "python",
   "pygments_lexer": "ipython3",
   "version": "3.9.6"
  },
  "orig_nbformat": 4
 },
 "nbformat": 4,
 "nbformat_minor": 2
}
