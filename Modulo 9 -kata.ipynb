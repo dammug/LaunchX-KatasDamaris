{
 "cells": [
  {
   "cell_type": "markdown",
   "metadata": {},
   "source": [
    "# Funciones"
   ]
  },
  {
   "cell_type": "markdown",
   "metadata": {},
   "source": [
    "## Uso de funciones"
   ]
  },
  {
   "cell_type": "code",
   "execution_count": 1,
   "metadata": {},
   "outputs": [],
   "source": [
    "def reporte_tanques(tanque1, tanque2, tanque3):\n",
    "    promedio = (tanque1 + tanque2 + tanque3) / 3\n",
    "\n",
    "    reporte = \"\"\"    Reporte de combustible\n",
    "    ----------\n",
    "    El promedio de combustible en los tres tanques es de {prom} L.\n",
    "    Tanque 1 = {t1} L\n",
    "    Tanque 2 = {t2} L\n",
    "    Tanque 3 = {t3} L\"\"\".format(prom=promedio, t1=tanque1, t2=tanque2, t3=tanque3)\n",
    "\n",
    "    return reporte"
   ]
  },
  {
   "cell_type": "code",
   "execution_count": 2,
   "metadata": {},
   "outputs": [
    {
     "name": "stdout",
     "output_type": "stream",
     "text": [
      "    Reporte de combustible\n",
      "    ----------\n",
      "    El promedio de combustible en los tres tanques es de 0.0 L.\n",
      "    Tanque 1 = 0 L\n",
      "    Tanque 2 = 0 L\n",
      "    Tanque 3 = 0 L\n"
     ]
    }
   ],
   "source": [
    "print(reporte_tanques(0, 0, 0))"
   ]
  },
  {
   "cell_type": "code",
   "execution_count": 3,
   "metadata": {},
   "outputs": [],
   "source": [
    "def prom_tanques(tanques):\n",
    "    promedio = sum(tanques) / len(tanques)\n",
    "    return promedio"
   ]
  },
  {
   "cell_type": "code",
   "execution_count": 4,
   "metadata": {},
   "outputs": [],
   "source": [
    "def reporte_tanques(tanque1, tanque2, tanque3):\n",
    "    promedio = prom_tanques([tanque1, tanque2, tanque3])\n",
    "\n",
    "    reporte = \"\"\"    Reporte de combustible\n",
    "    ----------\n",
    "    El promedio de combustible en los tres tanques es de {prom} L. \n",
    "    Tanque 1 = {t1} L\n",
    "    Tanque 2 = {t2} L\n",
    "    Tanque 3 = {t3} L\"\"\".format(prom=promedio, t1=tanque1, t2=tanque2, t3=tanque3)\n",
    "\n",
    "    return reporte"
   ]
  },
  {
   "cell_type": "code",
   "execution_count": 5,
   "metadata": {},
   "outputs": [
    {
     "name": "stdout",
     "output_type": "stream",
     "text": [
      "    Reporte de combustible\n",
      "    ----------\n",
      "    El promedio de combustible en los tres tanques es de 53.0 L. \n",
      "    Tanque 1 = 88 L\n",
      "    Tanque 2 = 15 L\n",
      "    Tanque 3 = 56 L\n"
     ]
    }
   ],
   "source": [
    "print(reporte_tanques(88, 15, 56))"
   ]
  },
  {
   "cell_type": "markdown",
   "metadata": {},
   "source": [
    "## Trabajo con argumentos de palabra clave"
   ]
  },
  {
   "cell_type": "code",
   "execution_count": 6,
   "metadata": {},
   "outputs": [],
   "source": [
    "def reporte(destino, tiempo_dest, prelanzamiento, tanque_ext, tanque_int):\n",
    "    reporte = \"\"\"    Reporte de viaje. \n",
    "    Estamos en camino hacia {dest}, con un tiempo de vuelo de {tiempo} horas.\n",
    "    ----------------\n",
    "    Hora de prelanzamiento: {hora},\n",
    "    Combustible en tanque exterior: {ext} L\n",
    "    Combustible en tanque interior: {int} L\"\"\".format(dest=destino, tiempo=tiempo_dest, hora=prelanzamiento, ext=tanque_ext, int=tanque_int)\n",
    "\n",
    "    return reporte"
   ]
  },
  {
   "cell_type": "code",
   "execution_count": 7,
   "metadata": {},
   "outputs": [
    {
     "name": "stdout",
     "output_type": "stream",
     "text": [
      "    Reporte de viaje. \n",
      "    Estamos en camino hacia Marte, con un tiempo de vuelo de 72 horas.\n",
      "    ----------------\n",
      "    Hora de prelanzamiento: 06:00,\n",
      "    Combustible en tanque exterior: 300000 L\n",
      "    Combustible en tanque interior: 150000 L\n"
     ]
    }
   ],
   "source": [
    "print(reporte(\"Marte\", 72, \"06:00\", 300000, 150000))"
   ]
  },
  {
   "cell_type": "code",
   "execution_count": 12,
   "metadata": {},
   "outputs": [],
   "source": [
    "def reporte(destino, prelanzamiento, tanque_ext, tanque_int, *tiempo, **tanque_reserva):\n",
    "    tiempo_dest = sum(tiempo)\n",
    "    reserva=sum(tanque_reserva.values())\n",
    "    total_combustible = tanque_ext+tanque_int+reserva\n",
    "\n",
    "    reporte = \"\"\"    Reporte de viaje. \n",
    "    Estamos en camino hacia {dest}, con un tiempo de vuelo de {tiempo} horas.\n",
    "    Hora de prelanzamiento: {hora}.\n",
    "    ----------------\n",
    "    Combustible en tanque exterior: {ext} L\n",
    "    Combustible en tanque interior: {int} L\n",
    "    Combustible en reserva: {res} L\n",
    "    Total: {total}\"\"\".format(dest=destino, tiempo=tiempo_dest, hora=prelanzamiento, ext=tanque_ext, int=tanque_int, res=reserva, total=total_combustible)\n",
    "\n",
    "    return reporte"
   ]
  },
  {
   "cell_type": "code",
   "execution_count": 13,
   "metadata": {},
   "outputs": [
    {
     "name": "stdout",
     "output_type": "stream",
     "text": [
      "    Reporte de viaje. \n",
      "    Estamos en camino hacia Marte, con un tiempo de vuelo de 110 horas.\n",
      "    Hora de prelanzamiento: 06:00.\n",
      "    ----------------\n",
      "    Combustible en tanque exterior: 300000 L\n",
      "    Combustible en tanque interior: 150000 L\n",
      "    Combustible en reserva: 200000 L\n",
      "    Total: 650000\n"
     ]
    }
   ],
   "source": [
    "print(reporte(\"Marte\", \"06:00\", 300000, 150000, 72, 38, reserva = 200000))"
   ]
  },
  {
   "cell_type": "code",
   "execution_count": 14,
   "metadata": {},
   "outputs": [
    {
     "name": "stdout",
     "output_type": "stream",
     "text": [
      "    Reporte de viaje. \n",
      "    Estamos en camino hacia Marte, con un tiempo de vuelo de 110 horas.\n",
      "    Hora de prelanzamiento: 06:00.\n",
      "    ----------------\n",
      "    Combustible en tanque exterior: 300000 L \n",
      "    Combustible en tanque interior: 256000 L \n",
      "    Combustible en tanque reserva: 200000 L \n",
      "    \n",
      "    Total: 756000 L\n"
     ]
    }
   ],
   "source": [
    "def reporte(destino, prelanzamiento, *tiempo, **tanque_reserva):\n",
    "    tiempo_dest = sum(tiempo)\n",
    "    total_combustible = sum(tanque_reserva.values())\n",
    "\n",
    "    combustible_tanques=\"\"\n",
    "\n",
    "    for tanque, litros in tanque_reserva.items():\n",
    "        combustible_tanques += \"Combustible en tanque {tanque}: {litro} L \\n    \".format(tanque=tanque, litro=litros)\n",
    "\n",
    "\n",
    "    reporte = \"\"\"    Reporte de viaje. \n",
    "    Estamos en camino hacia {dest}, con un tiempo de vuelo de {tiempo} horas.\n",
    "    Hora de prelanzamiento: {hora}.\n",
    "    ----------------\n",
    "    {comb}\n",
    "    Total: {total} L\"\"\".format(dest=destino, tiempo=tiempo_dest, hora=prelanzamiento, comb=combustible_tanques, total=total_combustible)\n",
    "\n",
    "    return reporte\n",
    "\n",
    "print(reporte(\"Marte\", \"06:00\", 72, 38, exterior = 300000, interior = 256000, reserva = 200000))"
   ]
  }
 ],
 "metadata": {
  "interpreter": {
   "hash": "ac59ebe37160ed0dfa835113d9b8498d9f09ceb179beaac4002f036b9467c963"
  },
  "kernelspec": {
   "display_name": "Python 3.9.6 64-bit",
   "language": "python",
   "name": "python3"
  },
  "language_info": {
   "codemirror_mode": {
    "name": "ipython",
    "version": 3
   },
   "file_extension": ".py",
   "mimetype": "text/x-python",
   "name": "python",
   "nbconvert_exporter": "python",
   "pygments_lexer": "ipython3",
   "version": "3.9.6"
  },
  "orig_nbformat": 4
 },
 "nbformat": 4,
 "nbformat_minor": 2
}
